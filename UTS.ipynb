{
  "nbformat": 4,
  "nbformat_minor": 0,
  "metadata": {
    "colab": {
      "provenance": []
    },
    "kernelspec": {
      "name": "python3",
      "display_name": "Python 3"
    },
    "language_info": {
      "name": "python"
    }
  },
  "cells": [
    {
      "cell_type": "markdown",
      "source": [
        "buat import library"
      ],
      "metadata": {
        "id": "P-39bKVyWvKQ"
      }
    },
    {
      "cell_type": "code",
      "source": [
        "import pandas as pd\n",
        "import numpy as np\n",
        "import matplotlib.pyplot as plt\n",
        "from sklearn.model_selection import train_test_split\n",
        "from sklearn.neighbors import KNeighborsClassifier\n",
        "from sklearn.metrics import accuracy_score\n",
        "from sklearn.impute import SimpleImputer\n"
      ],
      "metadata": {
        "id": "0vK1dy24mSx-"
      },
      "execution_count": null,
      "outputs": []
    },
    {
      "cell_type": "markdown",
      "source": [
        "buat download file zip + sekalian ekstrak"
      ],
      "metadata": {
        "id": "EE8ReZRTWxxM"
      }
    },
    {
      "cell_type": "code",
      "source": [
        "import requests\n",
        "import zipfile\n",
        "import io\n",
        "\n",
        "# URL file zip yang ingin di-download\n",
        "url = \"https://archive.ics.uci.edu/ml/machine-learning-databases/00222/bank.zip\"\n",
        "\n",
        "# mendownload file zip\n",
        "response = requests.get(url)\n",
        "z = zipfile.ZipFile(io.BytesIO(response.content))\n",
        "\n",
        "# mengekstrak semua file dalam zip ke direktori saat ini\n",
        "z.extractall(\"/content/\")\n"
      ],
      "metadata": {
        "id": "W_IJ2QN4V7rl"
      },
      "execution_count": null,
      "outputs": []
    },
    {
      "cell_type": "markdown",
      "source": [
        "1. Menampilkan atribut yang missing value serta jumlahnya"
      ],
      "metadata": {
        "id": "2OzafFJElE_3"
      }
    },
    {
      "cell_type": "code",
      "source": [
        "bank_data1 = pd.read_csv(\"bank-full.csv\", sep=\";\")\n",
        "missing_values_count = bank_data1.isnull().sum()\n",
        "if missing_values_count.sum() > 0:\n",
        "    print(\"Jumlah total missing value pada dataset adalah:\", missing_values_count.sum())\n",
        "    print(\"Jumlah missing value pada tiap kolom:\")\n",
        "    print(missing_values_count[missing_values_count > 0])\n",
        "else:\n",
        "    print(\"Tidak terdapat missing value pada dataset\")"
      ],
      "metadata": {
        "id": "IxhJSerll3pC"
      },
      "execution_count": null,
      "outputs": []
    },
    {
      "cell_type": "code",
      "source": [
        "bank_data2 = pd.read_csv(\"bank.csv\", sep=\";\")\n",
        "missing_values_count = bank_data2.isnull().sum()\n",
        "if missing_values_count.sum() > 0:\n",
        "    print(\"Jumlah total missing value pada dataset adalah:\", missing_values_count.sum())\n",
        "    print(\"Jumlah missing value pada tiap kolom:\")\n",
        "    print(missing_values_count[missing_values_count > 0])\n",
        "else:\n",
        "    print(\"Tidak terdapat missing value pada dataset\")"
      ],
      "metadata": {
        "id": "1rWYdnFSnMuY"
      },
      "execution_count": null,
      "outputs": []
    },
    {
      "cell_type": "markdown",
      "source": [
        "2. Mengubah data dari ‘kategorikal’ menjadi ‘numerikal’."
      ],
      "metadata": {
        "id": "qx2IyawvlW8_"
      }
    },
    {
      "cell_type": "code",
      "source": [
        "print(\"Tipe data sebelum perubahan pada bank-full.csv:\")\n",
        "print(bank_data1.dtypes)"
      ],
      "metadata": {
        "id": "AVjMBhnyau-i"
      },
      "execution_count": null,
      "outputs": []
    },
    {
      "cell_type": "code",
      "source": [
        "# mengubah data kategorikal menjadi data numerikal\n",
        "cat_cols = ['job', 'marital', 'education', 'default', 'housing', 'loan', 'contact', 'month', 'poutcome']\n",
        "for col in cat_cols:\n",
        "    bank_data1[col] = pd.factorize(bank_data1[col])[0]\n"
      ],
      "metadata": {
        "id": "qDIwzORkrEFw"
      },
      "execution_count": null,
      "outputs": []
    },
    {
      "cell_type": "code",
      "source": [
        "# menampilkan tipe data setelah perubahan\n",
        "print(\"Tipe data setelah perubahan pada bank-full.csv:\")\n",
        "print(bank_data2.dtypes)"
      ],
      "metadata": {
        "id": "RqWD0yZma0A4"
      },
      "execution_count": null,
      "outputs": []
    },
    {
      "cell_type": "markdown",
      "source": [
        "-----"
      ],
      "metadata": {
        "id": "M8c5vsG2cSx_"
      }
    },
    {
      "cell_type": "code",
      "source": [
        "print(\"Tipe data sebelum perubahan pada bank.csv:\")\n",
        "print(bank_data2.dtypes)"
      ],
      "metadata": {
        "id": "aZEPUEFqcXUE"
      },
      "execution_count": null,
      "outputs": []
    },
    {
      "cell_type": "code",
      "source": [
        "# mengubah data kategorikal menjadi data numerikal\n",
        "cat_cols = ['job', 'marital', 'education', 'default', 'housing', 'loan', 'contact', 'month', 'poutcome']\n",
        "for col in cat_cols:\n",
        "    bank_data2[col] = pd.factorize(bank_data2[col])[0]\n"
      ],
      "metadata": {
        "id": "pBPHtl2-ciXb"
      },
      "execution_count": null,
      "outputs": []
    },
    {
      "cell_type": "code",
      "source": [
        "# menampilkan tipe data setelah perubahan\n",
        "print(\"Tipe data setelah perubahan pada bank.csv:\")\n",
        "print(bank_data2.dtypes)"
      ],
      "metadata": {
        "id": "UkdPM7locldw"
      },
      "execution_count": null,
      "outputs": []
    },
    {
      "cell_type": "markdown",
      "source": [
        "3.\tMelakukan missing value handling dengan menggunakan nilai ‘median’ atau ‘average’"
      ],
      "metadata": {
        "id": "isGHDzWTlcTz"
      }
    },
    {
      "cell_type": "code",
      "source": [
        "print(\"Missing Value handling dengan nilai median atau average di file bank-full.csv:\\n \")\n",
        "df1 = bank_data1.fillna(bank_data1.median())\n",
        "\n",
        "# menampilkan jumlah missing value setelah di-handle\n",
        "print(\"Jumlah missing value setelah di-handle:\")\n",
        "print(df1.isna().sum())"
      ],
      "metadata": {
        "id": "kD7W0qtgq0au"
      },
      "execution_count": null,
      "outputs": []
    },
    {
      "cell_type": "code",
      "source": [
        "print(\"Missing Value handling dengan nilai median atau average di file bank.csv:\\n \")\n",
        "df2 = bank_data2.fillna(bank_data1.median())\n",
        "\n",
        "# menampilkan jumlah missing value setelah di-handle\n",
        "print(\"Jumlah missing value setelah di-handle:\")\n",
        "print(df2.isna().sum())"
      ],
      "metadata": {
        "id": "tUoMc_juXyKu"
      },
      "execution_count": null,
      "outputs": []
    },
    {
      "cell_type": "markdown",
      "source": [
        "4.\tMenampilkan grafik perbandingan jumlah data dengan label (yes) dan label (no)."
      ],
      "metadata": {
        "id": "oh5KTA0JlfwT"
      }
    },
    {
      "cell_type": "code",
      "source": [
        "#grafik yes dan no pada file bank-full.csv\n",
        "plt.hist(bank_data1[\"y\"], bins=2, color=\"blue\", edgecolor=\"black\", alpha=0.5)\n",
        "plt.title(\"Jumlah data yes dan no\")\n",
        "plt.xlabel(\"y\")\n",
        "plt.ylabel(\"Count\")\n",
        "plt.show()"
      ],
      "metadata": {
        "id": "FBAsQj8dzl-3"
      },
      "execution_count": null,
      "outputs": []
    },
    {
      "cell_type": "code",
      "source": [
        "#grafik yes dan no pada file bank.csv\n",
        "plt.hist(bank_data2[\"y\"], bins=2, color=\"blue\", edgecolor=\"black\", alpha=0.5)\n",
        "plt.title(\"Jumlah data yes dan no\")\n",
        "plt.xlabel(\"y\")\n",
        "plt.ylabel(\"Count\")\n",
        "plt.show()"
      ],
      "metadata": {
        "id": "-n91oIhkfGnn"
      },
      "execution_count": null,
      "outputs": []
    },
    {
      "cell_type": "markdown",
      "source": [
        "5.\tMembuat model Machine Learning menggunakan algoritma k-Nearest Neighbors (kNN) "
      ],
      "metadata": {
        "id": "p0uut-TglmDK"
      }
    },
    {
      "cell_type": "code",
      "source": [
        "from sklearn.model_selection import train_test_split\n",
        "from sklearn.preprocessing import StandardScaler\n",
        "from sklearn.metrics import accuracy_score\n",
        "\n",
        "print(\"Menghitung KNN pada file bank-full.csv:\\n \")\n",
        "# memisahkan fitur dan target\n",
        "X1 = bank_data1.drop('y', axis=1)\n",
        "y1 = bank_data1['y']\n",
        "\n",
        "# standarisasi fitur\n",
        "scaler = StandardScaler()\n",
        "Xa = scaler.fit_transform(X1)\n",
        "\n",
        "# membagi data menjadi data latih dan data uji dengan rasio 70:30\n",
        "Xa_train, Xa_test, y1_train, y1_test = train_test_split(Xa, y1, test_size=0.3, random_state=42)\n",
        "\n",
        "# percobaan kNN dengan k=3, k=5, k=7 dan batch_size 32 dan 64\n",
        "for k in [3, 5, 7]:\n",
        "    for batch_size in [32, 64]:\n",
        "        knn = KNeighborsClassifier(n_neighbors=k)\n",
        "        knn.fit(Xa_train, y1_train)\n",
        "        y1_pred = knn.predict(Xa_test)\n",
        "        acc = accuracy_score(y1_test, y1_pred)\n",
        "        print(f\"Accuracy for k={k} and batch_size={batch_size}: {acc}\")"
      ],
      "metadata": {
        "id": "jGK4s0O3fc5E"
      },
      "execution_count": null,
      "outputs": []
    },
    {
      "cell_type": "code",
      "source": [
        "from sklearn.model_selection import train_test_split\n",
        "from sklearn.preprocessing import StandardScaler\n",
        "from sklearn.metrics import accuracy_score\n",
        "\n",
        "print(\"Menghitung KNN pada file bank-full.csv:\\n \")\n",
        "# memisahkan fitur dan target\n",
        "X2 = bank_data2.drop('y', axis=1)\n",
        "y2 = bank_data2['y']\n",
        "\n",
        "# standarisasi fitur\n",
        "scaler = StandardScaler()\n",
        "Xb = scaler.fit_transform(X2)\n",
        "\n",
        "# membagi data menjadi data latih dan data uji dengan rasio 70:30\n",
        "Xb_train, Xb_test, y2_train, y2_test = train_test_split(Xb, y2, test_size=0.3, random_state=42)\n",
        "\n",
        "# percobaan kNN dengan k=3, k=5, k=7 dan batch_size 32 dan 64\n",
        "for k in [3, 5, 7]:\n",
        "    for batch_size in [32, 64]:\n",
        "        knn = KNeighborsClassifier(n_neighbors=k)\n",
        "        knn.fit(Xb_train, y2_train)\n",
        "        y2_pred = knn.predict(Xb_test)\n",
        "        acc = accuracy_score(y2_test, y2_pred)\n",
        "        print(f\"Accuracy for k={k} and batch_size={batch_size}: {acc}\")"
      ],
      "metadata": {
        "id": "kAWt_SoMhexp"
      },
      "execution_count": null,
      "outputs": []
    }
  ]
}